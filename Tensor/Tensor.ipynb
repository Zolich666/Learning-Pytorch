{
 "cells": [
  {
   "cell_type": "code",
   "execution_count": 5,
   "metadata": {},
   "outputs": [],
   "source": [
    "import torch as t\n",
    "import numpy as np"
   ]
  },
  {
   "cell_type": "markdown",
   "metadata": {},
   "source": [
    "## Tensor构建"
   ]
  },
  {
   "cell_type": "markdown",
   "metadata": {},
   "source": [
    "* 构建矩阵，不初始化"
   ]
  },
  {
   "cell_type": "code",
   "execution_count": 6,
   "metadata": {},
   "outputs": [
    {
     "data": {
      "text/plain": [
       "tensor([[6.5123e-37, 7.6091e-43, 6.5123e-37],\n",
       "        [7.6091e-43, 6.5115e-37, 7.6091e-43],\n",
       "        [6.5115e-37, 7.6091e-43, 6.5114e-37],\n",
       "        [7.6091e-43, 6.5114e-37, 7.6091e-43],\n",
       "        [6.5113e-37, 7.6091e-43, 6.5113e-37]])"
      ]
     },
     "execution_count": 6,
     "metadata": {},
     "output_type": "execute_result"
    }
   ],
   "source": [
    "x = t.Tensor(5,3)\n",
    "x"
   ]
  },
  {
   "cell_type": "markdown",
   "metadata": {},
   "source": [
    "* 构建矩阵并[0, 1]随机初始化"
   ]
  },
  {
   "cell_type": "code",
   "execution_count": 7,
   "metadata": {},
   "outputs": [
    {
     "data": {
      "text/plain": [
       "tensor([[0.3117, 0.6449, 0.4511],\n",
       "        [0.0436, 0.2207, 0.8055],\n",
       "        [0.3302, 0.3089, 0.9125],\n",
       "        [0.5757, 0.3780, 0.0439],\n",
       "        [0.3753, 0.6119, 0.5431]])"
      ]
     },
     "execution_count": 7,
     "metadata": {},
     "output_type": "execute_result"
    }
   ],
   "source": [
    "x = t.rand(5, 3)\n",
    "x"
   ]
  },
  {
   "cell_type": "markdown",
   "metadata": {},
   "source": [
    "* 查看形状"
   ]
  },
  {
   "cell_type": "markdown",
   "metadata": {},
   "source": [
    "torch.Size是tuple的子类"
   ]
  },
  {
   "cell_type": "code",
   "execution_count": 8,
   "metadata": {},
   "outputs": [
    {
     "name": "stdout",
     "output_type": "stream",
     "text": [
      "torch.Size([5, 3])\n",
      "rows:  5\n",
      "cols:  3\n",
      "rows:  5\n",
      "cols:  3\n"
     ]
    }
   ],
   "source": [
    "print(x.size())\n",
    "# 读取size的两种方法\n",
    "print('rows: ', x.size()[0])\n",
    "print('cols: ', x.size()[1])\n",
    "\n",
    "print('rows: ', x.size(0))\n",
    "print('cols: ', x.size(1))"
   ]
  },
  {
   "cell_type": "markdown",
   "metadata": {},
   "source": [
    "## Tensor加法"
   ]
  },
  {
   "cell_type": "markdown",
   "metadata": {},
   "source": [
    "* 基本加"
   ]
  },
  {
   "cell_type": "code",
   "execution_count": 9,
   "metadata": {},
   "outputs": [],
   "source": [
    "y = t.rand(5, 3)"
   ]
  },
  {
   "cell_type": "code",
   "execution_count": 10,
   "metadata": {},
   "outputs": [
    {
     "data": {
      "text/plain": [
       "tensor([[0.3598, 1.3072, 1.2344],\n",
       "        [0.8742, 0.5342, 1.3758],\n",
       "        [0.6456, 1.2201, 1.2084],\n",
       "        [1.2312, 0.6507, 0.4872],\n",
       "        [0.6898, 1.2638, 0.5755]])"
      ]
     },
     "execution_count": 10,
     "metadata": {},
     "output_type": "execute_result"
    }
   ],
   "source": [
    "# 1.直接加\n",
    "x + y"
   ]
  },
  {
   "cell_type": "code",
   "execution_count": 11,
   "metadata": {},
   "outputs": [
    {
     "data": {
      "text/plain": [
       "tensor([[0.3598, 1.3072, 1.2344],\n",
       "        [0.8742, 0.5342, 1.3758],\n",
       "        [0.6456, 1.2201, 1.2084],\n",
       "        [1.2312, 0.6507, 0.4872],\n",
       "        [0.6898, 1.2638, 0.5755]])"
      ]
     },
     "execution_count": 11,
     "metadata": {},
     "output_type": "execute_result"
    }
   ],
   "source": [
    "# 2.torch.add()方法加\n",
    "t.add(x, y)"
   ]
  },
  {
   "cell_type": "code",
   "execution_count": 12,
   "metadata": {},
   "outputs": [
    {
     "data": {
      "text/plain": [
       "tensor([[0.3598, 1.3072, 1.2344],\n",
       "        [0.8742, 0.5342, 1.3758],\n",
       "        [0.6456, 1.2201, 1.2084],\n",
       "        [1.2312, 0.6507, 0.4872],\n",
       "        [0.6898, 1.2638, 0.5755]])"
      ]
     },
     "execution_count": 12,
     "metadata": {},
     "output_type": "execute_result"
    }
   ],
   "source": [
    "# 3.指定结果加\n",
    "result = t.Tensor(5, 3) # 预分配空间\n",
    "t.add(x, y, out=result)\n",
    "result"
   ]
  },
  {
   "cell_type": "markdown",
   "metadata": {},
   "source": [
    "* inplace加"
   ]
  },
  {
   "cell_type": "code",
   "execution_count": 14,
   "metadata": {},
   "outputs": [
    {
     "name": "stdout",
     "output_type": "stream",
     "text": [
      "原本y\n",
      "tensor([[0.0481, 0.6623, 0.7833],\n",
      "        [0.8306, 0.3135, 0.5703],\n",
      "        [0.3154, 0.9112, 0.2959],\n",
      "        [0.6555, 0.2727, 0.4432],\n",
      "        [0.3145, 0.6519, 0.0324]])\n",
      "普通加的y\n",
      "tensor([[0.0481, 0.6623, 0.7833],\n",
      "        [0.8306, 0.3135, 0.5703],\n",
      "        [0.3154, 0.9112, 0.2959],\n",
      "        [0.6555, 0.2727, 0.4432],\n",
      "        [0.3145, 0.6519, 0.0324]])\n",
      "inplace加的y\n",
      "tensor([[0.3598, 1.3072, 1.2344],\n",
      "        [0.8742, 0.5342, 1.3758],\n",
      "        [0.6456, 1.2201, 1.2084],\n",
      "        [1.2312, 0.6507, 0.4872],\n",
      "        [0.6898, 1.2638, 0.5755]])\n"
     ]
    }
   ],
   "source": [
    "print('原本y')\n",
    "print(y)\n",
    "\n",
    "print('普通加的y')\n",
    "y.add(x)\n",
    "print(y)\n",
    "\n",
    "print('inplace加的y')\n",
    "y.add_(x) #add加个_\n",
    "print(y)"
   ]
  },
  {
   "cell_type": "markdown",
   "metadata": {},
   "source": [
    "## Tensor与NumPy转换"
   ]
  },
  {
   "cell_type": "markdown",
   "metadata": {},
   "source": [
    "* Tensor -> Numpy"
   ]
  },
  {
   "cell_type": "code",
   "execution_count": 16,
   "metadata": {},
   "outputs": [
    {
     "data": {
      "text/plain": [
       "tensor([1., 1., 1., 1., 1.])"
      ]
     },
     "execution_count": 16,
     "metadata": {},
     "output_type": "execute_result"
    }
   ],
   "source": [
    "a = t.ones(5)\n",
    "a"
   ]
  },
  {
   "cell_type": "code",
   "execution_count": 18,
   "metadata": {},
   "outputs": [
    {
     "data": {
      "text/plain": [
       "array([1., 1., 1., 1., 1.], dtype=float32)"
      ]
     },
     "execution_count": 18,
     "metadata": {},
     "output_type": "execute_result"
    }
   ],
   "source": [
    "b = a.numpy()\n",
    "b"
   ]
  },
  {
   "cell_type": "markdown",
   "metadata": {},
   "source": [
    "* Numpy -> Tensor"
   ]
  },
  {
   "cell_type": "code",
   "execution_count": 30,
   "metadata": {},
   "outputs": [
    {
     "data": {
      "text/plain": [
       "array([1., 1., 1., 1., 1.])"
      ]
     },
     "execution_count": 30,
     "metadata": {},
     "output_type": "execute_result"
    }
   ],
   "source": [
    "a = np.ones(5)\n",
    "a"
   ]
  },
  {
   "cell_type": "code",
   "execution_count": 31,
   "metadata": {},
   "outputs": [
    {
     "data": {
      "text/plain": [
       "tensor([1., 1., 1., 1., 1.], dtype=torch.float64)"
      ]
     },
     "execution_count": 31,
     "metadata": {},
     "output_type": "execute_result"
    }
   ],
   "source": [
    "b = t.from_numpy(a)\n",
    "b"
   ]
  },
  {
   "cell_type": "markdown",
   "metadata": {},
   "source": [
    "* 两者共享内存"
   ]
  },
  {
   "cell_type": "code",
   "execution_count": 32,
   "metadata": {},
   "outputs": [
    {
     "name": "stdout",
     "output_type": "stream",
     "text": [
      "tensor([2., 2., 2., 2., 2.], dtype=torch.float64)\n",
      "[2. 2. 2. 2. 2.]\n"
     ]
    }
   ],
   "source": [
    "b.add_(1)\n",
    "print(b)\n",
    "print(a)"
   ]
  },
  {
   "cell_type": "markdown",
   "metadata": {},
   "source": [
    "## 转到GPU"
   ]
  },
  {
   "cell_type": "code",
   "execution_count": 35,
   "metadata": {},
   "outputs": [],
   "source": [
    "if t.cuda.is_available():\n",
    "    x = x.cuda()\n",
    "    y = y.cuda()\n",
    "    x + y"
   ]
  }
 ],
 "metadata": {
  "kernelspec": {
   "display_name": "Python 3",
   "language": "python",
   "name": "python3"
  },
  "language_info": {
   "codemirror_mode": {
    "name": "ipython",
    "version": 3
   },
   "file_extension": ".py",
   "mimetype": "text/x-python",
   "name": "python",
   "nbconvert_exporter": "python",
   "pygments_lexer": "ipython3",
   "version": "3.7.6"
  }
 },
 "nbformat": 4,
 "nbformat_minor": 4
}
